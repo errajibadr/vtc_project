{
 "cells": [
  {
   "cell_type": "markdown",
   "metadata": {
    "tags": []
   },
   "source": [
    "## Historical Load : a subset of 150Gb of trips data"
   ]
  },
  {
   "cell_type": "code",
   "execution_count": 2,
   "metadata": {
    "execution": {
     "iopub.execute_input": "2023-10-06T21:33:43.996169Z",
     "iopub.status.busy": "2023-10-06T21:33:43.995849Z",
     "iopub.status.idle": "2023-10-06T21:33:44.056860Z",
     "shell.execute_reply": "2023-10-06T21:33:44.056054Z",
     "shell.execute_reply.started": "2023-10-06T21:33:43.996145Z"
    },
    "tags": []
   },
   "outputs": [
    {
     "data": {
      "application/vnd.jupyter.widget-view+json": {
       "model_id": "ab173d2d9bc04f65bb5be7c53d036911",
       "version_major": 2,
       "version_minor": 0
      },
      "text/plain": [
       "VBox()"
      ]
     },
     "metadata": {},
     "output_type": "display_data"
    },
    {
     "data": {
      "application/vnd.jupyter.widget-view+json": {
       "model_id": "",
       "version_major": 2,
       "version_minor": 0
      },
      "text/plain": [
       "FloatProgress(value=0.0, bar_style='info', description='Progress:', layout=Layout(height='25px', width='50%'),…"
      ]
     },
     "metadata": {},
     "output_type": "display_data"
    }
   ],
   "source": [
    "from pyspark.sql.functions import col,lit\n",
    "import pyspark.sql.functions as func\n"
   ]
  },
  {
   "cell_type": "code",
   "execution_count": 3,
   "metadata": {
    "execution": {
     "iopub.execute_input": "2023-10-06T21:33:47.135527Z",
     "iopub.status.busy": "2023-10-06T21:33:47.135138Z",
     "iopub.status.idle": "2023-10-06T21:33:47.203364Z",
     "shell.execute_reply": "2023-10-06T21:33:47.202558Z",
     "shell.execute_reply.started": "2023-10-06T21:33:47.135489Z"
    },
    "tags": []
   },
   "outputs": [
    {
     "data": {
      "application/vnd.jupyter.widget-view+json": {
       "model_id": "7f243b9de38d41cc8a363ef7a48974a0",
       "version_major": 2,
       "version_minor": 0
      },
      "text/plain": [
       "VBox()"
      ]
     },
     "metadata": {},
     "output_type": "display_data"
    },
    {
     "data": {
      "application/vnd.jupyter.widget-view+json": {
       "model_id": "",
       "version_major": 2,
       "version_minor": 0
      },
      "text/plain": [
       "FloatProgress(value=0.0, bar_style='info', description='Progress:', layout=Layout(height='25px', width='50%'),…"
      ]
     },
     "metadata": {},
     "output_type": "display_data"
    }
   ],
   "source": [
    "# normalisation des colonnes \n",
    "\n",
    "columns_names = \"vendor_id,pickup_datetime,dropoff_datetime,passenger_count,\" \\\n",
    "    + \"trip_distance,rate_code,store_and_fwd_flag,pickup_longitude,pickup_latitude,\" \\\n",
    "    + \"dropoff_longitude,dropoff_latitude,payment_type,fare_amount,extra,mta_tax,tip_amount,\" \\\n",
    "    + \"tolls_amount,improvement_surcharge,total_amount\"\n",
    "\n",
    "columns_names = columns_names.split(\",\")"
   ]
  },
  {
   "cell_type": "code",
   "execution_count": null,
   "metadata": {
    "tags": []
   },
   "outputs": [],
   "source": []
  },
  {
   "cell_type": "code",
   "execution_count": 4,
   "metadata": {
    "execution": {
     "iopub.execute_input": "2023-10-06T21:33:47.948723Z",
     "iopub.status.busy": "2023-10-06T21:33:47.948333Z",
     "iopub.status.idle": "2023-10-06T21:33:48.021926Z",
     "shell.execute_reply": "2023-10-06T21:33:48.021031Z",
     "shell.execute_reply.started": "2023-10-06T21:33:47.948687Z"
    },
    "tags": []
   },
   "outputs": [
    {
     "data": {
      "application/vnd.jupyter.widget-view+json": {
       "model_id": "24855b847220473c9f1db4e357f34f40",
       "version_major": 2,
       "version_minor": 0
      },
      "text/plain": [
       "VBox()"
      ]
     },
     "metadata": {},
     "output_type": "display_data"
    },
    {
     "data": {
      "application/vnd.jupyter.widget-view+json": {
       "model_id": "",
       "version_major": 2,
       "version_minor": 0
      },
      "text/plain": [
       "FloatProgress(value=0.0, bar_style='info', description='Progress:', layout=Layout(height='25px', width='50%'),…"
      ]
     },
     "metadata": {},
     "output_type": "display_data"
    }
   ],
   "source": [
    "subset_table_path = \"s3://datalake-vtc/raw_data/gcs/tripdatatest/data/2023-10-06**.parquet\""
   ]
  },
  {
   "cell_type": "code",
   "execution_count": null,
   "metadata": {},
   "outputs": [],
   "source": []
  },
  {
   "cell_type": "code",
   "execution_count": 59,
   "metadata": {
    "execution": {
     "iopub.execute_input": "2023-10-06T21:20:33.010853Z",
     "iopub.status.busy": "2023-10-06T21:20:33.010404Z",
     "iopub.status.idle": "2023-10-06T21:22:35.120239Z",
     "shell.execute_reply": "2023-10-06T21:22:35.116361Z",
     "shell.execute_reply.started": "2023-10-06T21:20:33.010816Z"
    },
    "tags": []
   },
   "outputs": [
    {
     "data": {
      "application/vnd.jupyter.widget-view+json": {
       "model_id": "eb490ded5bd740d1863561965eb57179",
       "version_major": 2,
       "version_minor": 0
      },
      "text/plain": [
       "VBox()"
      ]
     },
     "metadata": {},
     "output_type": "display_data"
    },
    {
     "data": {
      "application/vnd.jupyter.widget-view+json": {
       "model_id": "",
       "version_major": 2,
       "version_minor": 0
      },
      "text/plain": [
       "FloatProgress(value=0.0, bar_style='info', description='Progress:', layout=Layout(height='25px', width='50%'),…"
      ]
     },
     "metadata": {},
     "output_type": "display_data"
    },
    {
     "name": "stdout",
     "output_type": "stream",
     "text": [
      "+-------+-----------------------------------------------------------------------+-----------------+-------------------+------------------+-----------------+------------------+--------------------+------------------+-----------------+------------------+-------------------+-------------------+------------------+-------------------+---------------------+-----------------+--------------------+-----------+------------------+------------------+---------+-----------------+-----------------+------------------+-------------------+\n",
      "|summary|_file                                                                  |_line            |vendor_id          |passenger_count   |trip_distance    |ratecode_id       |store_and_fwd_flag  |pulocation_id     |dolocation_id    |fare_amount       |extra              |mta_tax            |tip_amount        |tolls_amount       |improvement_surcharge|total_amount     |congestion_surcharge|airport_fee|pickup_longitude  |pickup_latitude   |rate_code|dropoff_longitude|dropoff_latitude |surcharge         |payment_type       |\n",
      "+-------+-----------------------------------------------------------------------+-----------------+-------------------+------------------+-----------------+------------------+--------------------+------------------+-----------------+------------------+-------------------+-------------------+------------------+-------------------+---------------------+-----------------+--------------------+-----------+------------------+------------------+---------+-----------------+-----------------+------------------+-------------------+\n",
      "|count  |56981387                                                               |56981387         |42117609           |56981387          |56981387         |42117609          |48688768            |42117609          |42117609         |56981387          |42117609           |56981387           |56981387          |56981387           |42117606             |56981387         |12                  |12         |14863778          |14863778          |14863778 |14863778         |14863778         |14863778          |56981387           |\n",
      "|mean   |null                                                                   |5907507.660194197|1.5391146729150746 |1.6599620679644038|5.392164852006746|1.0386063463384163|0.018921474723328825|163.66825229798775|161.5044945927486|11.502358647745794|0.31643811570595104|0.4906077419631782 |1.5030292983223668|0.24256115720774651|0.29468307387713455  |14.28505086866635|2.5                 |0.0        |-72.63310339167356|40.011947217651   |1.0      |-72.6578491493232|40.02671086031077|0.3196214811604425|1.3493119231910815 |\n",
      "|stddev |null                                                                   |3645194.364401263|0.49846770031987025|1.2927071724330028|4819.183367632285|0.5508030592635199|0.1362488888138807  |66.77613952654538 |70.65057808568878|110.85800653973702|0.4575627030435658 |0.10672363788513058|523.3587327432077 |1.467622399007032  |0.040303913777014845 |535.0142340020445|0.0                 |0.0        |9.901502595324256 |5.6284409229869325|0.0      |9.823565217256938|5.440934376709611|0.3663894245358491|0.49233979898154706|\n",
      "|min    |d37ci6vzurychx.cloudfront.net_trip-data_yellow_tripdata_2018-01.parquet|0                |1                  |0                 |0.0              |1                 |*                   |1                 |1                |-957.6            |-79.0              |-1.0               |-220.8            |-26.0              |-0.3                 |-958.4           |2.5                 |0.0        |-783.216667       |-3538.40679       |1        |-2069.478952     |-2.269701        |0.0               |1                  |\n",
      "|max    |yellow_tripdata_2017-01.parquet                                        |14863777         |2                  |208               |1.54200045E7     |99                |Y                   |265               |265              |625900.8          |648.87             |89.7               |3950588.8         |1450.09            |1.0                  |3950611.6        |2.5                 |0.0        |84.34618          |1541.86725        |1        |42.760112        |1541.86725       |10.5              |No                 |\n",
      "+-------+-----------------------------------------------------------------------+-----------------+-------------------+------------------+-----------------+------------------+--------------------+------------------+-----------------+------------------+-------------------+-------------------+------------------+-------------------+---------------------+-----------------+--------------------+-----------+------------------+------------------+---------+-----------------+-----------------+------------------+-------------------+"
     ]
    }
   ],
   "source": [
    "parquet_table.describe().show(truncate=False)"
   ]
  },
  {
   "cell_type": "code",
   "execution_count": null,
   "metadata": {
    "execution": {
     "iopub.execute_input": "2023-10-06T21:33:55.792409Z",
     "iopub.status.busy": "2023-10-06T21:33:55.792125Z",
     "iopub.status.idle": "2023-10-06T21:34:06.589555Z",
     "shell.execute_reply": "2023-10-06T21:34:06.587371Z",
     "shell.execute_reply.started": "2023-10-06T21:33:55.792386Z"
    },
    "tags": []
   },
   "outputs": [],
   "source": [
    "parquet_table = spark.read.format(\"parquet\").option('mergeSchema','true').load(subset_table_path)"
   ]
  },
  {
   "cell_type": "markdown",
   "metadata": {
    "execution": {
     "iopub.execute_input": "2023-10-05T21:14:50.655749Z",
     "iopub.status.busy": "2023-10-05T21:14:50.655452Z",
     "iopub.status.idle": "2023-10-05T21:14:52.967294Z",
     "shell.execute_reply": "2023-10-05T21:14:52.965809Z",
     "shell.execute_reply.started": "2023-10-05T21:14:50.655717Z"
    },
    "tags": []
   },
   "source": [
    "### Loading files 2010 -> 2014 ..."
   ]
  },
  {
   "cell_type": "code",
   "execution_count": null,
   "metadata": {
    "execution": {
     "iopub.execute_input": "2023-10-06T21:34:06.593333Z",
     "iopub.status.busy": "2023-10-06T21:34:06.592865Z",
     "iopub.status.idle": "2023-10-06T21:34:06.876235Z",
     "shell.execute_reply": "2023-10-06T21:34:06.875433Z",
     "shell.execute_reply.started": "2023-10-06T21:34:06.593300Z"
    },
    "tags": []
   },
   "outputs": [],
   "source": [
    "data_v1 = parquet_table.filter(col(\"_file\").rlike(\"yellow_tripdata_201[0-4]-..\\\\.parquet\"))\n",
    "\n",
    "data_v1 = data_v1 \\\n",
    "    .withColumn('improvement_surcharge', func.lit(0)) \\\n",
    "    .withColumn('extra', col('surcharge'))\n",
    "\n",
    "final_data = data_v1.select(columns_names)"
   ]
  },
  {
   "cell_type": "code",
   "execution_count": null,
   "metadata": {
    "tags": []
   },
   "outputs": [],
   "source": []
  },
  {
   "cell_type": "markdown",
   "metadata": {},
   "source": [
    "### Loading files 2015-01 -> 2015-06 ..."
   ]
  },
  {
   "cell_type": "code",
   "execution_count": null,
   "metadata": {
    "execution": {
     "iopub.execute_input": "2023-10-06T21:34:06.879894Z",
     "iopub.status.busy": "2023-10-06T21:34:06.879684Z",
     "iopub.status.idle": "2023-10-06T21:34:07.143944Z",
     "shell.execute_reply": "2023-10-06T21:34:07.142909Z",
     "shell.execute_reply.started": "2023-10-06T21:34:06.879873Z"
    },
    "tags": []
   },
   "outputs": [],
   "source": [
    "data_v2 = parquet_table.filter(col(\"_file\").rlike(\"yellow_tripdata_2015-0[1-6]\\\\.parquet\"))\n",
    "\n",
    "data_v2 = data_v2.select(columns_names)\n",
    "\n",
    "final_data = final_data.union(data_v2)\n"
   ]
  },
  {
   "cell_type": "code",
   "execution_count": null,
   "metadata": {
    "tags": []
   },
   "outputs": [],
   "source": []
  },
  {
   "cell_type": "markdown",
   "metadata": {},
   "source": [
    "## Loading files 2015-07 -> 2016-06 ..."
   ]
  },
  {
   "cell_type": "code",
   "execution_count": null,
   "metadata": {
    "execution": {
     "iopub.execute_input": "2023-10-06T21:34:07.147519Z",
     "iopub.status.busy": "2023-10-06T21:34:07.147191Z",
     "iopub.status.idle": "2023-10-06T21:34:07.427816Z",
     "shell.execute_reply": "2023-10-06T21:34:07.426971Z",
     "shell.execute_reply.started": "2023-10-06T21:34:07.147481Z"
    },
    "tags": []
   },
   "outputs": [],
   "source": [
    "data_v3 = parquet_table.filter(col(\"_file\").rlike(\"yellow_tripdata_2015-(07|08|09|10|11|12)\\\\.parquet\"))\n",
    "\n",
    "data_v3 = data_v3.union(\n",
    "    parquet_table.filter(col(\"_file\")\n",
    "                         .rlike(\"yellow_tripdata_2016-(01|02|03|04|05|06)\\\\.parquet\")))\n",
    "\n",
    "data_v3 = data_v3.select(columns_names)\n",
    "    \n",
    "final_data = final_data.union(data_v3)\n",
    "    \n",
    "final_data = final_data \\\n",
    "    .withColumn('pu_location_id', func.lit(None)) \\\n",
    "    .withColumn('do_location_id', func.lit(None)) \\\n",
    "    .withColumn('with_areas', func.lit(False))    "
   ]
  },
  {
   "cell_type": "code",
   "execution_count": null,
   "metadata": {
    "execution": {
     "iopub.execute_input": "2023-10-06T21:34:07.429505Z",
     "iopub.status.busy": "2023-10-06T21:34:07.429067Z",
     "iopub.status.idle": "2023-10-06T21:34:07.488466Z",
     "shell.execute_reply": "2023-10-06T21:34:07.487690Z",
     "shell.execute_reply.started": "2023-10-06T21:34:07.429465Z"
    },
    "tags": []
   },
   "outputs": [],
   "source": [
    "new_columns_names = columns_names + ['pu_location_id', 'do_Location_id', 'with_areas']"
   ]
  },
  {
   "cell_type": "markdown",
   "metadata": {},
   "source": [
    "## Loading files 2016-07 -> 2018 ..."
   ]
  },
  {
   "cell_type": "code",
   "execution_count": null,
   "metadata": {
    "execution": {
     "iopub.execute_input": "2023-10-06T21:34:07.489981Z",
     "iopub.status.busy": "2023-10-06T21:34:07.489667Z",
     "iopub.status.idle": "2023-10-06T21:34:07.756106Z",
     "shell.execute_reply": "2023-10-06T21:34:07.755435Z",
     "shell.execute_reply.started": "2023-10-06T21:34:07.489947Z"
    },
    "tags": []
   },
   "outputs": [],
   "source": [
    "data_v4 = parquet_table.filter(col(\"_file\").rlike(\"yellow_tripdata_2016-(07|08|09|10|11|12)\\\\.parquet\"))\n",
    "\n",
    "data_v4 = data_v4.union(\n",
    "    parquet_table.filter(col(\"_file\")\n",
    "                         .rlike(\"yellow_tripdata_201[7-8]-..\\\\.parquet\")))\n",
    "data_v4.columns"
   ]
  },
  {
   "cell_type": "code",
   "execution_count": null,
   "metadata": {
    "execution": {
     "iopub.execute_input": "2023-10-06T21:34:07.757284Z",
     "iopub.status.busy": "2023-10-06T21:34:07.757074Z",
     "iopub.status.idle": "2023-10-06T21:34:08.008095Z",
     "shell.execute_reply": "2023-10-06T21:34:08.007330Z",
     "shell.execute_reply.started": "2023-10-06T21:34:07.757262Z"
    },
    "tags": []
   },
   "outputs": [],
   "source": [
    "new_columns_names = columns_names + ['pu_location_id', 'do_location_id', 'with_areas']\n",
    "\n",
    "data_v4 = data_v4 \\\n",
    "    .withColumn('with_areas', func.lit(True)) \\\n",
    "    .withColumn('pickup_datetime',col('tpep_pickup_datetime')) \\\n",
    "    .withColumn('dropoff_datetime',col('tpep_dropoff_datetime')) \\\n",
    "    .withColumn('rate_code', col('ratecode_id')) \\\n",
    "    .withColumnRenamed('pulocation_id','pu_location_id')\\\n",
    "    .withColumnRenamed('dolocation_id','do_location_id')\\\n",
    "    .select(new_columns_names)\n",
    "                "
   ]
  },
  {
   "cell_type": "code",
   "execution_count": null,
   "metadata": {
    "execution": {
     "iopub.execute_input": "2023-10-06T21:34:08.009900Z",
     "iopub.status.busy": "2023-10-06T21:34:08.009663Z",
     "iopub.status.idle": "2023-10-06T21:34:08.049474Z",
     "shell.execute_reply": "2023-10-06T21:34:08.048701Z",
     "shell.execute_reply.started": "2023-10-06T21:34:08.009855Z"
    },
    "tags": []
   },
   "outputs": [],
   "source": [
    "data_v4.printSchema()"
   ]
  },
  {
   "cell_type": "code",
   "execution_count": null,
   "metadata": {
    "execution": {
     "iopub.execute_input": "2023-10-06T21:34:08.050843Z",
     "iopub.status.busy": "2023-10-06T21:34:08.050615Z",
     "iopub.status.idle": "2023-10-06T21:34:08.291677Z",
     "shell.execute_reply": "2023-10-06T21:34:08.291016Z",
     "shell.execute_reply.started": "2023-10-06T21:34:08.050817Z"
    },
    "tags": []
   },
   "outputs": [],
   "source": [
    "final_data = final_data.union(data_v4)"
   ]
  },
  {
   "cell_type": "markdown",
   "metadata": {
    "tags": []
   },
   "source": [
    "## Cast columns "
   ]
  },
  {
   "cell_type": "code",
   "execution_count": null,
   "metadata": {
    "execution": {
     "iopub.execute_input": "2023-10-06T21:34:08.293024Z",
     "iopub.status.busy": "2023-10-06T21:34:08.292720Z",
     "iopub.status.idle": "2023-10-06T21:34:08.542562Z",
     "shell.execute_reply": "2023-10-06T21:34:08.541755Z",
     "shell.execute_reply.started": "2023-10-06T21:34:08.292992Z"
    },
    "tags": []
   },
   "outputs": [],
   "source": [
    "final_data = final_data \\\n",
    "    .withColumn(\"pickup_datetime\", func.to_timestamp(\"pickup_datetime\", 'yyyy-MM-dd HH:mm:ss')) \\\n",
    "    .withColumn(\"dropoff_datetime\", func.to_timestamp(\"dropoff_datetime\", 'yyyy-MM-dd HH:mm:ss'))"
   ]
  },
  {
   "cell_type": "code",
   "execution_count": null,
   "metadata": {
    "execution": {
     "iopub.execute_input": "2023-10-06T21:34:08.543728Z",
     "iopub.status.busy": "2023-10-06T21:34:08.543527Z",
     "iopub.status.idle": "2023-10-06T21:34:08.797342Z",
     "shell.execute_reply": "2023-10-06T21:34:08.796677Z",
     "shell.execute_reply.started": "2023-10-06T21:34:08.543707Z"
    },
    "tags": []
   },
   "outputs": [],
   "source": [
    "final_data = final_data \\\n",
    "    .withColumn(\"passenger_count\", final_data.passenger_count.cast(\"int\")) \\\n",
    "    .withColumn(\"trip_distance\", final_data.trip_distance.cast(\"float\")) \\\n",
    "    .withColumn(\"payment_type\", final_data.payment_type.cast(\"float\")) \\\n",
    "    .withColumn(\"pickup_longitude\", final_data.pickup_longitude.cast(\"float\")) \\\n",
    "    .withColumn(\"pickup_latitude\", final_data.pickup_latitude.cast(\"float\")) \\\n",
    "    .withColumn(\"dropoff_longitude\", final_data.dropoff_longitude.cast(\"float\")) \\\n",
    "    .withColumn(\"dropoff_latitude\", final_data.dropoff_latitude.cast(\"float\")) \\\n",
    "    .withColumn(\"fare_amount\", final_data.fare_amount.cast(\"float\")) \\\n",
    "    .withColumn(\"extra\", final_data.extra.cast(\"float\")) \\\n",
    "    .withColumn(\"mta_tax\", final_data.mta_tax.cast(\"float\")) \\\n",
    "    .withColumn(\"tip_amount\", final_data.tip_amount.cast(\"float\")) \\\n",
    "    .withColumn(\"tolls_amount\", final_data.tolls_amount.cast(\"float\")) \\\n",
    "    .withColumn(\"improvement_surcharge\", final_data.improvement_surcharge.cast(\"float\")) \\\n",
    "    .withColumn(\"total_amount\", final_data.total_amount.cast(\"float\")) \\\n",
    "    .withColumn(\"pu_location_id\", final_data.pu_location_id.cast(\"int\")) \\\n",
    "    .withColumn(\"do_location_id\", final_data.do_location_id.cast(\"int\"))"
   ]
  },
  {
   "cell_type": "code",
   "execution_count": null,
   "metadata": {
    "execution": {
     "iopub.execute_input": "2023-10-06T21:34:08.799399Z",
     "iopub.status.busy": "2023-10-06T21:34:08.798946Z",
     "iopub.status.idle": "2023-10-06T21:34:09.041018Z",
     "shell.execute_reply": "2023-10-06T21:34:09.040220Z",
     "shell.execute_reply.started": "2023-10-06T21:34:08.799363Z"
    },
    "tags": []
   },
   "outputs": [],
   "source": [
    "final_data.sample(False, 0.1)"
   ]
  },
  {
   "cell_type": "code",
   "execution_count": null,
   "metadata": {
    "execution": {
     "iopub.execute_input": "2023-10-06T21:34:11.587140Z",
     "iopub.status.busy": "2023-10-06T21:34:11.586873Z"
    },
    "tags": []
   },
   "outputs": [],
   "source": [
    "dbname = \"dev\"\n",
    "host = \"jdbc:redshift:iam://dwh-vtc-trips.371858328372.eu-west-3.redshift-serverless.amazonaws.com/dev\"\n",
    "port = \"5439\"\n",
    "\n",
    "s3_path = \"s3://datalake-vtc/raw_data/gcs/tripdatatest/\"\n",
    "iam_role_arn = \"arn:aws:iam::371858328372:role/service-role/AmazonRedshift-CommandsAccessRole-20230929T161605\"\n",
    "\n",
    "\n",
    "\n",
    "final_data.sample(False, 0.1).write \\\n",
    "    .format(\"io.github.spark_redshift_community.spark.redshift\") \\\n",
    "    .option(\"url\", host) \\\n",
    "    .option(\"dbtable\", \"gsc.trips\") \\\n",
    "    .option(\"tempdir\", \"s3://datalake-vtc/tmp_redshift/\") \\\n",
    "    .option(\"aws_iam_role\", iam_role_arn) \\\n",
    "    .mode(\"append\") \\\n",
    "    .save()"
   ]
  },
  {
   "cell_type": "code",
   "execution_count": null,
   "metadata": {},
   "outputs": [],
   "source": []
  }
 ],
 "metadata": {
  "kernelspec": {
   "display_name": "PySpark",
   "language": "python",
   "name": "pysparkkernel"
  },
  "language_info": {
   "codemirror_mode": {
    "name": "python",
    "version": 3
   },
   "file_extension": ".py",
   "mimetype": "text/x-python",
   "name": "pyspark",
   "pygments_lexer": "python3"
  }
 },
 "nbformat": 4,
 "nbformat_minor": 4
}
