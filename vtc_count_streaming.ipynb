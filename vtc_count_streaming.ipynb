{
 "cells": [
  {
   "cell_type": "code",
   "execution_count": 2,
   "metadata": {},
   "outputs": [],
   "source": [
    "from pyspark.sql import SparkSession"
   ]
  },
  {
   "cell_type": "code",
   "execution_count": 3,
   "metadata": {},
   "outputs": [
    {
     "name": "stderr",
     "output_type": "stream",
     "text": [
      "Setting default log level to \"WARN\".\n",
      "To adjust logging level use sc.setLogLevel(newLevel). For SparkR, use setLogLevel(newLevel).\n",
      "23/10/22 18:04:03 WARN NativeCodeLoader: Unable to load native-hadoop library for your platform... using builtin-java classes where applicable\n"
     ]
    }
   ],
   "source": [
    "spark = SparkSession.builder.appName('test').getOrCreate()"
   ]
  },
  {
   "cell_type": "code",
   "execution_count": null,
   "metadata": {},
   "outputs": [],
   "source": []
  },
  {
   "cell_type": "code",
   "execution_count": 8,
   "metadata": {},
   "outputs": [
    {
     "name": "stderr",
     "output_type": "stream",
     "text": [
      "                                                                                \r"
     ]
    },
    {
     "name": "stdout",
     "output_type": "stream",
     "text": [
      "+-----+----+\n",
      "|value|name|\n",
      "+-----+----+\n",
      "|    1|test|\n",
      "|    2|test|\n",
      "+-----+----+\n",
      "\n"
     ]
    }
   ],
   "source": [
    "spark.createDataFrame([(1,\"test\"),(2,'test')],schema=' value int, name string ').show()"
   ]
  },
  {
   "cell_type": "code",
   "execution_count": null,
   "metadata": {},
   "outputs": [],
   "source": [
    "CONFLUENT_IP = \"\"\n",
    "KAFKA_SERVER = f\"{CONFLUENT_IP}:9092\"\n",
    "SCHEMA_REGISTRY_URL = f\"http://{CONFLUENT_IP}:8081\"\n",
    "TOPIC = \"ongoing-trips\""
   ]
  },
  {
   "cell_type": "code",
   "execution_count": null,
   "metadata": {},
   "outputs": [],
   "source": [
    "import requests\n",
    "import json\n",
    "\n",
    "from pprint import pprint\n",
    "\n",
    "# On récupère les versions du sujet ongoing-trips-value\n",
    "rep_schema_versions = requests.get(\n",
    "    SCHEMA_REGISTRY_URL + f\"/subjects/ongoing-trips-value/versions\",\n",
    ")\n",
    "latest_version = json.loads(rep_schema_versions.content)[-1]\n",
    "\n",
    "# On récupère le schéma associé à la version la plus récente\n",
    "rep_schema = requests.get(\n",
    "    SCHEMA_REGISTRY_URL + f\"/subjects/ongoing-trips-value/versions/{latest_version}\",\n",
    ")\n",
    "trips_schema = json.loads(rep_schema.content)[\"schema\"]\n",
    "\n",
    "pprint(json.loads(trips_schema))"
   ]
  },
  {
   "cell_type": "code",
   "execution_count": null,
   "metadata": {},
   "outputs": [],
   "source": [
    "import pyspark.sql.functions as func\n",
    "\n",
    "from pyspark.sql.avro.functions import from_avro\n",
    "\n",
    "df = spark \\\n",
    "    .readStream \\\n",
    "    .format(\"kafka\") \\\n",
    "    .option(\"kafka.bootstrap.servers\", KAFKA_SERVER) \\\n",
    "    .option(\"subscribe\", TOPIC) \\\n",
    "    .option(\"kafka.group.id\", \"analytics\") \\\n",
    "    .load()\n",
    "\n",
    "output = df \\\n",
    "    .select(from_avro(func.expr(\"substring(value, 6, length(value)-5)\"), trips_schema).alias(\"trips\"))\\\n",
    "    .select(func.col(\"trips.*\"))\\\n",
    "    .withColumn(\"dropoff_datetime\", func.col(\"dropoff_datetime\").cast(\"timestamp\"))\n",
    "\n",
    "df_res = output \\\n",
    "    .withWatermark(\"dropoff_datetime\", \"2 minutes\") \\\n",
    "    .groupBy(\n",
    "        func.window(\"dropoff_datetime\", \"1 minute\", \"1 minute\")\n",
    "    ) \\\n",
    "    .count()\n",
    "\n",
    "    "
   ]
  }
 ],
 "metadata": {
  "kernelspec": {
   "display_name": ".venv",
   "language": "python",
   "name": "python3"
  },
  "language_info": {
   "codemirror_mode": {
    "name": "ipython",
    "version": 3
   },
   "file_extension": ".py",
   "mimetype": "text/x-python",
   "name": "python",
   "nbconvert_exporter": "python",
   "pygments_lexer": "ipython3",
   "version": "3.11.1"
  },
  "orig_nbformat": 4
 },
 "nbformat": 4,
 "nbformat_minor": 2
}
